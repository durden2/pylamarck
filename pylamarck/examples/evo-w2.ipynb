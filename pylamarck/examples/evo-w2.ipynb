{
 "cells": [
  {
   "cell_type": "code",
   "execution_count": null,
   "metadata": {
    "pycharm": {
     "is_executing": false
    }
   },
   "outputs": [],
   "source": [
    "import sys\n",
    "import os\n",
    "sys.path.append(os.path.join(sys.path[0], '../..'))\n",
    "\n",
    "from pylamarck.spaces.permutations.test_functions_tsp import RandomCities,\\\n",
    "    visualize, tsp_swap_neighbourhood\n",
    "from pylamarck.logging import EvaluationLogger, logme, goal_val_plot\n",
    "from pylamarck.termination import TimeLimit, MaxSteps\n",
    "from pylamarck.algorithms.random_sampling import RandomSampling\n",
    "from pylamarck.algorithms.random_walk import RandomWalk\n",
    "from pylamarck.algorithms.hill_climbing import HillClimbing\n",
    "from pylamarck.spaces.permutations.production import PermutationSingleSwap\n",
    "from pylamarck.production import ConstantSearch\n",
    "from pylamarck.spaces.permutations.production import RandomPermutation\n",
    "from pylamarck.spaces.bits.production import RandomBitSequence, BitFlips\n",
    "from pylamarck.algorithms.simulated_annealing import SimulatedAnnealing,\\\n",
    "    ExponentialSchedule, LogarithmicSchedule, \\\n",
    "    PolynomialSchedule, temperature_schedule_plot\n",
    "from pylamarck.spaces.bits.test_functions_bits import MaxSAT,\\\n",
    "    sat_neighbourhood\n",
    "from pylamarck.algorithms.tabu_search import TabuSearch,\\\n",
    "    SimpleTabuSearchNeighbourhood\n"
   ]
  },
  {
   "cell_type": "code",
   "execution_count": null,
   "metadata": {
    "pycharm": {
     "is_executing": false
    }
   },
   "outputs": [],
   "source": [
    "def test1():\n",
    "    city_number = 10\n",
    "\n",
    "    el_rs = EvaluationLogger(\"Random sampling\")\n",
    "    el_hc = EvaluationLogger(\"Hill climbing\")\n",
    "    el_rw = EvaluationLogger(\"Random walk\")\n",
    "\n",
    "    cityfun = RandomCities(city_number)\n",
    "\n",
    "    rp = RandomPermutation(city_number)\n",
    "    search = RandomSampling(rp,\n",
    "                            TimeLimit(1) | MaxSteps(5000))\n",
    "    xrs = search.solve(logme(el_rs)(cityfun))\n",
    "    print(\"Random sampling: \", xrs)\n",
    "\n",
    "    pss = PermutationSingleSwap(city_number)\n",
    "    search = HillClimbing(ConstantSearch([i for i in range(city_number)]),\n",
    "                          pss,\n",
    "                          TimeLimit(1) | MaxSteps(5000))\n",
    "    xhc = search.solve(logme(el_hc)(cityfun))\n",
    "    print(\"Hill climbing: \", xhc)\n",
    "\n",
    "    search = RandomWalk(ConstantSearch([i for i in range(city_number)]),\n",
    "                        pss,\n",
    "                        TimeLimit(1) | MaxSteps(5000))\n",
    "    xrw = search.solve(logme(el_rw)(cityfun))\n",
    "    print(\"Random walk: \", xrw)\n",
    "\n",
    "    goal_val_plot([el_rs, el_hc, el_rw], mintoi=True, xtimestep='time', fmin=0)\n",
    "    visualize(cityfun, [{\"label\": \"Random sampling\", \"perm\": xrs.g},\n",
    "                        {\"label\": \"Hill climbing\", \"perm\": xhc.g},\n",
    "                        {\"label\": \"Random walk\", \"perm\": xrw.g}])\n",
    "\n",
    "\n",
    "test1()\n"
   ]
  },
  {
   "cell_type": "code",
   "execution_count": null,
   "metadata": {
    "pycharm": {
     "is_executing": false
    }
   },
   "outputs": [],
   "source": [
    "\n",
    "def test2():\n",
    "    schedules = [{\"label\": \"exponential\", \"schedule\": ExponentialSchedule(1.0, 0.05)},\n",
    "                 {\"label\": \"logarithmic\", \"schedule\": LogarithmicSchedule(1.0)},\n",
    "                 {\"label\": \"polynomial\", \"schedule\": PolynomialSchedule(1.0, 2, 500)}]\n",
    "\n",
    "    city_number = 50\n",
    "    max_time = 1 # in seconds\n",
    "    max_steps = 10000\n",
    "\n",
    "    el_rs = EvaluationLogger(\"Random sampling\")\n",
    "    el_hc = EvaluationLogger(\"Hill climbing\")\n",
    "    el_rw = EvaluationLogger(\"Random walk\")\n",
    "    el_sa_list = []\n",
    "\n",
    "    cityfun = RandomCities(city_number)\n",
    "\n",
    "    rp = RandomPermutation(city_number)\n",
    "    search = RandomSampling(rp,\n",
    "                            TimeLimit(max_time) | MaxSteps(max_steps))\n",
    "    xrs = search.solve(logme(el_rs)(cityfun))\n",
    "    print(\"Random sampling: \", xrs)\n",
    "\n",
    "    pss = PermutationSingleSwap(city_number)\n",
    "    nso = ConstantSearch([i for i in range(city_number)])\n",
    "    search = HillClimbing(nso,\n",
    "                          pss,\n",
    "                          TimeLimit(max_time) | MaxSteps(max_steps))\n",
    "    xhc = search.solve(logme(el_hc)(cityfun))\n",
    "    print(\"Hill climbing: \", xhc)\n",
    "\n",
    "    search = RandomWalk(nso,\n",
    "                        pss,\n",
    "                        TimeLimit(max_time) | MaxSteps(max_steps))\n",
    "    xrw = search.solve(logme(el_rw)(cityfun))\n",
    "    print(\"Random walk: \", xrw)\n",
    "\n",
    "    to_plot = [{\"label\": \"Random sampling\", \"perm\": xrs.g},\n",
    "               {\"label\": \"Hill climbing\", \"perm\": xhc.g},\n",
    "               {\"label\": \"Random walk\", \"perm\": xrw.g}]\n",
    "\n",
    "    # to_plot.clear()\n",
    "    for s in schedules:\n",
    "        search = SimulatedAnnealing(nso, pss, TimeLimit(max_time) | MaxSteps(max_steps), s[\"schedule\"])\n",
    "        el = EvaluationLogger(\"Simulated annealing \" + s[\"label\"])\n",
    "        el_sa_list.append(el)\n",
    "        xsa = search.solve(logme(el)(cityfun))\n",
    "        print(s[\"label\"] + \": \" + str(xsa))\n",
    "        to_plot.append({\"label\": \"Simulated annealing \" + s[\"label\"], \"perm\": xsa.g})\n",
    "\n",
    "    goal_val_plot([el_rs, el_hc, el_rw] + el_sa_list, mintoi=True, xtimestep='time', fmin=0)\n",
    "    visualize(cityfun, [min(to_plot, key=lambda x: cityfun(x[\"perm\"]))])\n",
    "\n",
    "    temperature_schedule_plot(schedules, 1000)\n",
    "\n",
    "\n",
    "test2()\n"
   ]
  },
  {
   "cell_type": "code",
   "execution_count": null,
   "metadata": {
    "pycharm": {
     "is_executing": false
    }
   },
   "outputs": [],
   "source": [
    "\n",
    "def test3():\n",
    "    # Tabu search\n",
    "    # MAX-SAT problem\n",
    "    n_vars = 50\n",
    "    n_conj = 30\n",
    "    n_disj = 5\n",
    "    max_time = 5\n",
    "    max_steps = 50000\n",
    "\n",
    "    nso_rand = RandomBitSequence(n_vars)\n",
    "    nso_const = ConstantSearch([True for _ in range(n_vars)])\n",
    "    el_tabu = EvaluationLogger(\"tabu\")\n",
    "\n",
    "    msat = MaxSAT(n_vars, n_conj, n_disj)\n",
    "    tabu_max_len = 30  # the result is very sensitive to this parameter\n",
    "    neighbourhood_search = SimpleTabuSearchNeighbourhood(sat_neighbourhood)\n",
    "    search = TabuSearch(nso_rand,\n",
    "                        neighbourhood_search,\n",
    "                        TimeLimit(max_time) | MaxSteps(max_steps),\n",
    "                        tabu_max_len)\n",
    "    xts = search.solve(logme(el_tabu)(msat))\n",
    "    print(xts)\n",
    "\n",
    "    el_sa = EvaluationLogger(\"simulated annealing\")\n",
    "    schedule = PolynomialSchedule(1.0, 2, 500)\n",
    "    uso = BitFlips(2)\n",
    "    search = SimulatedAnnealing(nso_rand,\n",
    "                                uso,\n",
    "                                TimeLimit(max_time) | MaxSteps(max_steps),\n",
    "                                schedule)\n",
    "    xsa = search.solve(logme(el_sa)(msat))\n",
    "    print(xsa)\n",
    "\n",
    "    goal_val_plot([el_tabu, el_sa], mintoi=True, xtimestep='time', fmin=0, plot_logarithm=False)\n",
    "    \n",
    "    \n",
    "test3()\n"
   ]
  },
  {
   "cell_type": "code",
   "execution_count": null,
   "metadata": {
    "pycharm": {
     "is_executing": false
    }
   },
   "outputs": [],
   "source": [
    "\n",
    "def test4():\n",
    "    # Travelling Salesman Problem\n",
    "    city_number = 30\n",
    "    max_time = 20  # in seconds\n",
    "    max_steps = 1000000\n",
    "\n",
    "    el_hc = EvaluationLogger(\"Hill climbing\")\n",
    "    el_tabu_swap = EvaluationLogger(\"tabu swap\")\n",
    "    el_tabu_reverse = EvaluationLogger(\"tabu reverse\")\n",
    "\n",
    "    cityfun = RandomCities(city_number)\n",
    "\n",
    "    pss = PermutationSingleSwap(city_number)\n",
    "    # nso = ConstantSearch([i for i in range(city_number)])\n",
    "    nso = RandomPermutation(city_number)\n",
    "    search = HillClimbing(nso,\n",
    "                          pss,\n",
    "                          TimeLimit(max_time) | MaxSteps(max_steps))\n",
    "    xhc = search.solve(logme(el_hc)(cityfun))\n",
    "    print(\"Hill climbing: \", xhc)\n",
    "\n",
    "    tabu_max_len = 500  # the result is very sensitive to this parameter\n",
    "\n",
    "    neighbourhood_search = SimpleTabuSearchNeighbourhood(tsp_swap_neighbourhood)\n",
    "\n",
    "    search = TabuSearch(nso,\n",
    "                        neighbourhood_search,\n",
    "                        TimeLimit(max_time) | MaxSteps(max_steps),\n",
    "                        tabu_max_len)\n",
    "    xts = search.solve(logme(el_tabu_swap)(cityfun))\n",
    "    print(\"Tabu search swap: \", xts)\n",
    "\n",
    "    search = TabuSearch(nso,\n",
    "                        neighbourhood_search,\n",
    "                        TimeLimit(max_time) | MaxSteps(max_steps),\n",
    "                        tabu_max_len)\n",
    "    xtr = search.solve(logme(el_tabu_reverse)(cityfun))\n",
    "    print(\"Tabu search reverse: \", xtr)\n",
    "\n",
    "    el_sa = EvaluationLogger(\"simulated annealing\")\n",
    "    schedule = PolynomialSchedule(1.0, 2, 500)\n",
    "    pss = PermutationSingleSwap(city_number)\n",
    "    search = SimulatedAnnealing(nso,\n",
    "                                pss,\n",
    "                                TimeLimit(max_time) | MaxSteps(max_steps),\n",
    "                                schedule)\n",
    "    xsa = search.solve(logme(el_sa)(cityfun))\n",
    "    print(\"Simulated Annealing: \", xsa)\n",
    "\n",
    "    to_plot = [{\"label\": \"tabu swap\", \"perm\": xts.g},\n",
    "               {\"label\": \"tabu reverse\", \"perm\": xtr.g},\n",
    "               {\"label\": \"simulated annealing\", \"perm\": xsa.g},\n",
    "               {\"label\": \"hill climbing\", \"perm\": xhc.g}]\n",
    "    goal_val_plot([el_tabu_swap, el_tabu_reverse, el_sa, el_hc],\n",
    "                  mintoi=True,\n",
    "                  xtimestep='time',\n",
    "                  fmin=0,\n",
    "                  plot_logarithm=False)\n",
    "    visualize(cityfun, [min(to_plot, key=lambda x: cityfun(x[\"perm\"]))])\n",
    "\n",
    "\n",
    "test4()"
   ]
  },
  {
   "cell_type": "code",
   "execution_count": null,
   "metadata": {
    "pycharm": {
     "is_executing": false,
     "metadata": false,
     "name": "#%%\n"
    }
   },
   "outputs": [],
   "source": []
  },
  {
   "cell_type": "code",
   "execution_count": null,
   "metadata": {
    "pycharm": {
     "metadata": false,
     "name": "#%%\n"
    }
   },
   "outputs": [],
   "source": [
    "\n"
   ]
  }
 ],
 "metadata": {
  "@webio": {
   "lastCommId": null,
   "lastKernelId": null
  },
  "kernelspec": {
   "display_name": "Python 3",
   "language": "python",
   "name": "python3"
  },
  "language_info": {
   "codemirror_mode": {
    "name": "ipython",
    "version": 3
   },
   "file_extension": ".py",
   "mimetype": "text/x-python",
   "name": "python",
   "nbconvert_exporter": "python",
   "pygments_lexer": "ipython3",
   "version": "3.7.1"
  }
 },
 "nbformat": 4,
 "nbformat_minor": 1
}
