{
 "cells": [
  {
   "cell_type": "code",
   "execution_count": null,
   "metadata": {
    "pycharm": {
     "is_executing": false
    }
   },
   "outputs": [],
   "source": [
    "import sys\n",
    "import os\n",
    "sys.path.append(os.path.join(sys.path[0], '../..'))\n",
    "\n",
    "from pylamarck.algorithms.exhaustive_search import ExhaustiveSearchBasic,\\\n",
    "    ExhaustiveSearchExtended\n",
    "from pylamarck.algorithms.random_sampling import RandomSampling\n",
    "from pylamarck.production import RandomSequenceSearch, SequentialSearch,\\\n",
    "    ConstantSearch\n",
    "from pylamarck.spaces.euclidean.production import RandomUniformSearch\n",
    "from pylamarck.termination import MaxSteps, TimeLimit\n",
    "from pylamarck.algorithms.hill_climbing import HillClimbing\n",
    "from pylamarck.spaces.euclidean.production import RandomAdditiveMutation,\\\n",
    "    BoxConstraint, GaussianRn\n",
    "from pylamarck.logging import EvaluationLogger, logme, convergence_demo2d,\\\n",
    "    goal_val_plot\n",
    "from pylamarck.algorithms.random_walk import RandomWalk\n",
    "import pylamarck.spaces.euclidean.test_functions_rn as test_rn\n",
    "\n",
    "from numpy import argsort\n",
    "from scipy.optimize import rosen"
   ]
  },
  {
   "cell_type": "code",
   "execution_count": null,
   "metadata": {
    "pycharm": {
     "is_executing": false
    }
   },
   "outputs": [],
   "source": [
    "search = ExhaustiveSearchBasic(range(10))\n",
    "x = search.solve(lambda i: (i-5)**2)\n",
    "print(x)\n",
    "\n",
    "x = search.solve(lambda i: (i - 5) ** 2 + i)\n",
    "print(x)\n",
    "\n",
    "x = search.solve"
   ]
  },
  {
   "cell_type": "code",
   "execution_count": null,
   "metadata": {
    "pycharm": {
     "is_executing": false
    }
   },
   "outputs": [],
   "source": [
    "txt_set = [\"aaa\", \"bb\", \"12\", \"Bee 1\"]\n"
   ]
  },
  {
   "cell_type": "code",
   "execution_count": null,
   "metadata": {
    "pycharm": {
     "is_executing": false
    }
   },
   "outputs": [],
   "source": [
    "search = ExhaustiveSearchBasic(txt_set)\n",
    "\n",
    "# Shortest string\n",
    "x = search.solve(lambda i: len(i))\n",
    "print(x)\n",
    "\n",
    "# Smallest string in lexicographical order\n",
    "x = search.solve(lambda i: i)\n",
    "print(x)\n",
    "\n",
    "# Smallest string in lexicographical order, more appropriate version\n",
    "order = argsort(txt_set)\n",
    "dictmap = dict(zip(txt_set, order))\n",
    "\n",
    "search = ExhaustiveSearchExtended(txt_set, lambda i: dictmap[i])\n",
    "x = search.solve(lambda i: i)\n",
    "print(x)\n",
    "\n",
    "# Largest string in lexicographical order\n",
    "x = search.solve(lambda i: -i)\n",
    "print(x)\n",
    "\n",
    "# The simple version works because exhaustive search requires only a\n",
    "# comparison operation\n"
   ]
  },
  {
   "cell_type": "code",
   "execution_count": null,
   "metadata": {
    "pycharm": {
     "is_executing": false
    }
   },
   "outputs": [],
   "source": [
    "\n",
    "# Random Sampling for Rosenbrock function\n",
    "search = RandomSampling(RandomUniformSearch([-3, -3], [3, 3]),\n",
    "                        TimeLimit(1))\n",
    "x = search.solve(rosen)\n",
    "print(\"Random sampling: \", x)\n",
    "\n",
    "# Hill climbing for Rosenbrock function\n",
    "cond = BoxConstraint([-3, -3], [3, 3]).get_checker()\n",
    "ram = RandomAdditiveMutation(GaussianRn(2, 0.01),\n",
    "                             cond=cond)\n",
    "search = HillClimbing(ConstantSearch([-1.0, 1.0]),\n",
    "                      ram, TimeLimit(1))\n",
    "x = search.solve(rosen)\n",
    "print(\"Hill climbing: \", x)"
   ]
  },
  {
   "cell_type": "code",
   "execution_count": null,
   "metadata": {
    "pycharm": {
     "is_executing": false
    }
   },
   "outputs": [],
   "source": [
    "# Optimization logging\n",
    "\n",
    "el_rs_r2 = EvaluationLogger(\"Random sampling\")\n",
    "el_hc_r2 = EvaluationLogger(\"Hill climbing\")\n",
    "\n",
    "mincoord = [-3, -3]\n",
    "maxcoord = [3, 3]\n",
    "\n",
    "# Random Sampling for Rosenbrock function\n",
    "search = RandomSampling(RandomUniformSearch(mincoord, maxcoord),\n",
    "                        TimeLimit(1) | MaxSteps(5000))\n",
    "x = search.solve(logme(el_rs_r2)(rosen))\n",
    "print(\"Random sampling: \", x)\n",
    "\n",
    "# optimization\n",
    "cond = BoxConstraint(mincoord, maxcoord).get_checker()\n",
    "ram = RandomAdditiveMutation(GaussianRn(2, 0.0, 0.1),\n",
    "                             cond=cond)\n",
    "search = HillClimbing(ConstantSearch([-1.0, 1.0]),\n",
    "                      ram,\n",
    "                      TimeLimit(1) | MaxSteps(5000))\n",
    "x = search.solve(logme(el_hc_r2)(rosen))\n",
    "print(\"Hill climbing: \", x)\n",
    "\n",
    "convergence_demo2d([el_rs_r2, el_hc_r2], rosen, mincoord, maxcoord,\n",
    "                   resample_evals_to=500)\n",
    "goal_val_plot([el_rs_r2, el_hc_r2], mintoi=True, xtimestep='time', fmin=0)\n",
    "\n",
    "# higher-dimensional Rosenbrock function\n",
    "n_dim = 10\n",
    "\n",
    "el_rs_rn = EvaluationLogger(\"Random sampling\")\n",
    "el_hc_rn = EvaluationLogger(\"Hill climbing\")\n",
    "\n",
    "mincoord = [-3 for _ in range(n_dim)]\n",
    "maxcoord = [3 for _ in range(n_dim)]\n",
    "\n",
    "search = RandomSampling(RandomUniformSearch(mincoord, maxcoord),\n",
    "                        TimeLimit(1) | MaxSteps(50000))\n",
    "x = search.solve(logme(el_rs_rn)(test_rn.frosenn))\n",
    "print(\"Random sampling: \", x)\n",
    "\n",
    "cond = BoxConstraint(mincoord, maxcoord).get_checker()\n",
    "ram = RandomAdditiveMutation(GaussianRn(n_dim, 0.0, 0.1),\n",
    "                             cond=cond)\n",
    "search = HillClimbing(ConstantSearch([-1 for _ in range(n_dim)]),\n",
    "                      ram,\n",
    "                      TimeLimit(1) | MaxSteps(50000))\n",
    "\n",
    "x = search.solve(logme(el_hc_rn)(test_rn.frosenn))\n",
    "print(\"Hill climbing: \", x)\n",
    "\n",
    "goal_val_plot([el_rs_rn, el_hc_rn], mintoi=True, xtimestep='time', fmin=0)\n"
   ]
  },
  {
   "cell_type": "code",
   "execution_count": null,
   "metadata": {
    "pycharm": {
     "is_executing": false
    }
   },
   "outputs": [],
   "source": [
    "# Random walk for comparison\n",
    "n_dim = 2\n",
    "\n",
    "el_rs_rn = EvaluationLogger(\"Random sampling\")\n",
    "el_hc_rn = EvaluationLogger(\"Hill climbing\")\n",
    "el_rw_rn = EvaluationLogger(\"Random walk\")\n",
    "\n",
    "mincoord = [-3 for _ in range(n_dim)]\n",
    "maxcoord = [3 for _ in range(n_dim)]\n",
    "\n",
    "search = RandomSampling(RandomUniformSearch(mincoord, maxcoord),\n",
    "                        TimeLimit(1) | MaxSteps(500))\n",
    "x = search.solve(logme(el_rs_rn)(test_rn.frosenn))\n",
    "print(\"Random sampling: \", x)\n",
    "\n",
    "cond = BoxConstraint(mincoord, maxcoord).get_checker()\n",
    "ram = RandomAdditiveMutation(GaussianRn(n_dim, 0.0, 0.1),\n",
    "                             cond=cond)\n",
    "\n",
    "search = HillClimbing(ConstantSearch([-1 for _ in range(n_dim)]),\n",
    "                      ram,\n",
    "                      TimeLimit(1) | MaxSteps(500))\n",
    "\n",
    "x = search.solve(logme(el_hc_rn)(test_rn.frosenn))\n",
    "print(\"Hill climbing: \", x)\n",
    "\n",
    "cond = BoxConstraint(mincoord, maxcoord).get_checker()\n",
    "ram = RandomAdditiveMutation(GaussianRn(n_dim, 0.0, 0.1),\n",
    "                             cond=cond)\n",
    "search = RandomWalk(ConstantSearch([-1 for _ in range(n_dim)]),\n",
    "                    ram,\n",
    "                    TimeLimit(1) | MaxSteps(500))\n",
    "x = search.solve(logme(el_rw_rn)(test_rn.frosenn))\n",
    "print(\"Random walk: \", x)\n",
    "\n",
    "if n_dim == 2:\n",
    "    convergence_demo2d([el_rs_rn, el_hc_rn, el_rw_rn], rosen,\n",
    "                       mincoord, maxcoord, resample_evals_to=500)\n",
    "goal_val_plot([el_rs_rn, el_hc_rn, el_rw_rn],\n",
    "              mintoi=True, xtimestep='time', fmin=0)\n"
   ]
  },
  {
   "cell_type": "code",
   "execution_count": null,
   "metadata": {
    "pycharm": {
     "is_executing": false
    }
   },
   "outputs": [],
   "source": [
    "# random sampling\n",
    "search = RandomSampling(RandomSequenceSearch(txt_set), MaxSteps(20))\n",
    "\n",
    "# Longest string\n",
    "x = search.solve(lambda i: len(i))\n",
    "print(x)\n",
    "\n",
    "# Smallest in lexicographical order\n",
    "order = argsort(txt_set)\n",
    "dictmap = dict(zip(txt_set, order))\n",
    "search = RandomSampling(RandomSequenceSearch(txt_set), MaxSteps(20),\n",
    "                        lambda i: dictmap[i])\n",
    "x = search.solve(lambda i: i)\n",
    "print(x)\n",
    "\n",
    "# Exhaustive search via Random Sampling\n",
    "search = RandomSampling(SequentialSearch(txt_set), MaxSteps(len(txt_set)))\n",
    "x = search.solve(lambda i: len(i))\n",
    "print(x)\n",
    "\n",
    "# test for a small interval\n",
    "search = RandomSampling(RandomSequenceSearch(range(10)), MaxSteps(20))\n",
    "x = search.solve(lambda i: (i - 5) ** 2)\n",
    "print(\"Small interval: \", x)\n",
    "\n",
    "# test for a wide interval\n",
    "search = RandomSampling(RandomSequenceSearch(range(200000000)), MaxSteps(20))\n",
    "x = search.solve(lambda i: (i - 500) ** 2)\n",
    "print(\"Large interval: \", x)\n",
    "\n",
    "# time limit example\n",
    "search = RandomSampling(RandomSequenceSearch(range(200000000)), TimeLimit(1))\n",
    "x = search.solve(lambda i: (i - 500) ** 2)\n",
    "print(\"Wide interval (time limit): \", x)\n",
    "\n",
    "# exhaustive search again\n",
    "search = RandomSampling(SequentialSearch(range(10)), MaxSteps(10))\n",
    "x = search.solve(lambda i: (i - 5) ** 2)\n",
    "print(\"Small interval (sequentially): \", x)"
   ]
  }
 ],
 "metadata": {
  "@webio": {
   "lastCommId": "58e9dbc7e3cf416e94350f33ef71263f",
   "lastKernelId": "af7adbaa-8977-4479-aa23-fd023153fa21"
  },
  "kernelspec": {
   "display_name": "Python 3",
   "language": "python",
   "name": "python3"
  },
  "language_info": {
   "codemirror_mode": {
    "name": "ipython",
    "version": 3
   },
   "file_extension": ".py",
   "mimetype": "text/x-python",
   "name": "python",
   "nbconvert_exporter": "python",
   "pygments_lexer": "ipython3",
   "version": "3.7.1"
  },
  "stem_cell": {
   "cell_type": "raw",
   "metadata": {
    "pycharm": {
     "metadata": false
    }
   },
   "source": ""
  }
 },
 "nbformat": 4,
 "nbformat_minor": 1
}
